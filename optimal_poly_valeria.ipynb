{
 "cells": [
  {
   "cell_type": "code",
   "execution_count": 8,
   "id": "e3e3ffbd-c208-483b-9190-b3e709e99e2a",
   "metadata": {},
   "outputs": [],
   "source": [
    "from method import genetic_algorithm_main, choose_edges, fitness_plot\n",
    "from method import genetic_algorithm_main, choose_edges, fitness_plot, block_coverage, services_plot, connect_blocks_plot\n",
    "import os\n",
    "import pandas as pd\n",
    "import geopandas as gpd\n",
    "import numpy as np\n",
    "\n",
    "local_crs = 32636\n",
    "example_data_path = \"./data/\"\n",
    "\n",
    "import warnings\n",
    "warnings.filterwarnings(\"ignore\")"
   ]
  },
  {
   "cell_type": "code",
   "execution_count": 14,
   "id": "84f80081-9bfb-4fd7-967f-76f21ebf1c07",
   "metadata": {},
   "outputs": [
    {
     "data": {
      "text/html": [
       "<div>\n",
       "<style scoped>\n",
       "    .dataframe tbody tr th:only-of-type {\n",
       "        vertical-align: middle;\n",
       "    }\n",
       "\n",
       "    .dataframe tbody tr th {\n",
       "        vertical-align: top;\n",
       "    }\n",
       "\n",
       "    .dataframe thead th {\n",
       "        text-align: right;\n",
       "    }\n",
       "</style>\n",
       "<table border=\"1\" class=\"dataframe\">\n",
       "  <thead>\n",
       "    <tr style=\"text-align: right;\">\n",
       "      <th></th>\n",
       "      <th>id</th>\n",
       "      <th>capacity</th>\n",
       "      <th>demand</th>\n",
       "      <th>demand_left</th>\n",
       "      <th>demand_within</th>\n",
       "      <th>demand_without</th>\n",
       "      <th>capacity_left</th>\n",
       "      <th>provision</th>\n",
       "      <th>geometry</th>\n",
       "    </tr>\n",
       "  </thead>\n",
       "  <tbody>\n",
       "    <tr>\n",
       "      <th>0</th>\n",
       "      <td>0</td>\n",
       "      <td>0.0</td>\n",
       "      <td>3.0</td>\n",
       "      <td>3.0</td>\n",
       "      <td>0.0</td>\n",
       "      <td>3.0</td>\n",
       "      <td>0.0</td>\n",
       "      <td>0.0</td>\n",
       "      <td>POLYGON ((339076.063 6636586.371, 339075.615 6...</td>\n",
       "    </tr>\n",
       "    <tr>\n",
       "      <th>1</th>\n",
       "      <td>1</td>\n",
       "      <td>0.0</td>\n",
       "      <td>3.0</td>\n",
       "      <td>3.0</td>\n",
       "      <td>0.0</td>\n",
       "      <td>3.0</td>\n",
       "      <td>0.0</td>\n",
       "      <td>0.0</td>\n",
       "      <td>POLYGON ((338883.944 6636688.475, 338884.04 66...</td>\n",
       "    </tr>\n",
       "    <tr>\n",
       "      <th>2</th>\n",
       "      <td>2</td>\n",
       "      <td>4441.0</td>\n",
       "      <td>37.0</td>\n",
       "      <td>37.0</td>\n",
       "      <td>37.0</td>\n",
       "      <td>0.0</td>\n",
       "      <td>10.0</td>\n",
       "      <td>1.0</td>\n",
       "      <td>POLYGON ((339907.94 6636293.887, 339907.941 66...</td>\n",
       "    </tr>\n",
       "    <tr>\n",
       "      <th>3</th>\n",
       "      <td>3</td>\n",
       "      <td>0.0</td>\n",
       "      <td>10.0</td>\n",
       "      <td>10.0</td>\n",
       "      <td>10.0</td>\n",
       "      <td>0.0</td>\n",
       "      <td>0.0</td>\n",
       "      <td>1.0</td>\n",
       "      <td>POLYGON ((340896.896 6635327.538, 340889.1 663...</td>\n",
       "    </tr>\n",
       "    <tr>\n",
       "      <th>4</th>\n",
       "      <td>4</td>\n",
       "      <td>0.0</td>\n",
       "      <td>14.0</td>\n",
       "      <td>14.0</td>\n",
       "      <td>0.0</td>\n",
       "      <td>14.0</td>\n",
       "      <td>0.0</td>\n",
       "      <td>0.0</td>\n",
       "      <td>POLYGON ((340830.836 6636349.591, 340830.388 6...</td>\n",
       "    </tr>\n",
       "  </tbody>\n",
       "</table>\n",
       "</div>"
      ],
      "text/plain": [
       "   id  capacity  demand  demand_left  demand_within  demand_without  \\\n",
       "0   0       0.0     3.0          3.0            0.0             3.0   \n",
       "1   1       0.0     3.0          3.0            0.0             3.0   \n",
       "2   2    4441.0    37.0         37.0           37.0             0.0   \n",
       "3   3       0.0    10.0         10.0           10.0             0.0   \n",
       "4   4       0.0    14.0         14.0            0.0            14.0   \n",
       "\n",
       "   capacity_left  provision                                           geometry  \n",
       "0            0.0        0.0  POLYGON ((339076.063 6636586.371, 339075.615 6...  \n",
       "1            0.0        0.0  POLYGON ((338883.944 6636688.475, 338884.04 66...  \n",
       "2           10.0        1.0  POLYGON ((339907.94 6636293.887, 339907.941 66...  \n",
       "3            0.0        1.0  POLYGON ((340896.896 6635327.538, 340889.1 663...  \n",
       "4            0.0        0.0  POLYGON ((340830.836 6636349.591, 340830.388 6...  "
      ]
     },
     "execution_count": 14,
     "metadata": {},
     "output_type": "execute_result"
    }
   ],
   "source": [
    "accessibility_matrix = pd.read_pickle(os.path.join(\"data/data_getter_matrix.pickle\"))\n",
    "df_with_demand = gpd.read_file(os.path.join(\"data/df_with_demand.geojson\")).to_crs(local_crs)\n",
    "df_with_demand.head()"
   ]
  },
  {
   "cell_type": "code",
   "execution_count": 16,
   "id": "954bd3b4-e383-448f-9ffc-1673a36fd9a7",
   "metadata": {},
   "outputs": [],
   "source": [
    "SERVICE_RADIUS = 15\n",
    "\n",
    "# Genetic algorithm parameters\n",
    "population_size = 50\n",
    "num_generations = 20\n",
    "num_parents = 10\n",
    "num_offspring = population_size - num_parents\n",
    "mutation_rate = 0.7"
   ]
  },
  {
   "cell_type": "code",
   "execution_count": 18,
   "id": "af19661c-ce86-460c-b2dd-2dbfdf8d1c86",
   "metadata": {},
   "outputs": [],
   "source": [
    "uncovered_demand = df_with_demand[df_with_demand['provision'] < 1]\n",
    "accessibility_matrix_uncovered_demand = accessibility_matrix.loc[uncovered_demand.index, uncovered_demand.index]\n",
    "id_matrix = accessibility_matrix_uncovered_demand.index.tolist()\n",
    "\n",
    "uncovered_demand.reset_index(drop=True, inplace=True)\n",
    "accessibility_matrix_uncovered_demand.reset_index(drop=True, inplace=True)\n",
    "accessibility_matrix_uncovered_demand.columns=accessibility_matrix_uncovered_demand.index"
   ]
  },
  {
   "cell_type": "code",
   "execution_count": 26,
   "id": "0000a844-5cf3-4d4c-8b7c-19be63f17a00",
   "metadata": {},
   "outputs": [
    {
     "ename": "TypeError",
     "evalue": "object of type 'NoneType' has no len()",
     "output_type": "error",
     "traceback": [
      "\u001b[0;31m---------------------------------------------------------------------------\u001b[0m",
      "\u001b[0;31mTypeError\u001b[0m                                 Traceback (most recent call last)",
      "Cell \u001b[0;32mIn[26], line 2\u001b[0m\n\u001b[1;32m      1\u001b[0m edges_uncovered_demand \u001b[38;5;241m=\u001b[39m choose_edges(sim_matrix \u001b[38;5;241m=\u001b[39m accessibility_matrix_uncovered_demand, service_radius \u001b[38;5;241m=\u001b[39m SERVICE_RADIUS)\n\u001b[0;32m----> 2\u001b[0m \u001b[38;5;28mlen\u001b[39m(edges_uncovered_demand)\n",
      "\u001b[0;31mTypeError\u001b[0m: object of type 'NoneType' has no len()"
     ]
    }
   ],
   "source": [
    "edges_uncovered_demand = choose_edges(sim_matrix = accessibility_matrix_uncovered_demand, service_radius = SERVICE_RADIUS)\n",
    "len(edges_uncovered_demand)"
   ]
  },
  {
   "cell_type": "code",
   "execution_count": null,
   "id": "564c0e75-9444-4f46-90b9-341aecbb1e2e",
   "metadata": {},
   "outputs": [],
   "source": []
  }
 ],
 "metadata": {
  "kernelspec": {
   "display_name": "Python [conda env:base] *",
   "language": "python",
   "name": "conda-base-py"
  },
  "language_info": {
   "codemirror_mode": {
    "name": "ipython",
    "version": 3
   },
   "file_extension": ".py",
   "mimetype": "text/x-python",
   "name": "python",
   "nbconvert_exporter": "python",
   "pygments_lexer": "ipython3",
   "version": "3.12.2"
  }
 },
 "nbformat": 4,
 "nbformat_minor": 5
}
