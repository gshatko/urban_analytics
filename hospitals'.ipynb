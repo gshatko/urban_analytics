{
 "cells": [
  {
   "cell_type": "code",
   "execution_count": 1,
   "id": "446b1a86-6184-40fd-b72f-bb7fed0f8fe6",
   "metadata": {},
   "outputs": [
    {
     "ename": "AttributeError",
     "evalue": "'Point' object has no attribute 'geometry'",
     "output_type": "error",
     "traceback": [
      "\u001b[0;31m---------------------------------------------------------------------------\u001b[0m",
      "\u001b[0;31mAttributeError\u001b[0m                            Traceback (most recent call last)",
      "Cell \u001b[0;32mIn[1], line 20\u001b[0m\n\u001b[1;32m     17\u001b[0m residential_points \u001b[38;5;241m=\u001b[39m nodes\u001b[38;5;241m.\u001b[39msample(num_residential_areas)\n\u001b[1;32m     19\u001b[0m \u001b[38;5;66;03m# Преобразуем координаты в массив для кластеризации\u001b[39;00m\n\u001b[0;32m---> 20\u001b[0m X \u001b[38;5;241m=\u001b[39m np\u001b[38;5;241m.\u001b[39marray([[point\u001b[38;5;241m.\u001b[39mgeometry\u001b[38;5;241m.\u001b[39my, point\u001b[38;5;241m.\u001b[39mgeometry\u001b[38;5;241m.\u001b[39mx] \u001b[38;5;28;01mfor\u001b[39;00m point \u001b[38;5;129;01min\u001b[39;00m residential_points\u001b[38;5;241m.\u001b[39mgeometry])\n\u001b[1;32m     22\u001b[0m \u001b[38;5;66;03m# Кластеризация для определения оптимальных мест размещения поликлиник\u001b[39;00m\n\u001b[1;32m     23\u001b[0m num_clinics \u001b[38;5;241m=\u001b[39m \u001b[38;5;241m3\u001b[39m\n",
      "\u001b[0;31mAttributeError\u001b[0m: 'Point' object has no attribute 'geometry'"
     ]
    }
   ],
   "source": [
    "import osmnx as ox\n",
    "import networkx as nx\n",
    "import numpy as np\n",
    "import matplotlib.pyplot as plt\n",
    "from sklearn.cluster import KMeans\n",
    "\n",
    "# Загрузка карты города Тверь\n",
    "place_name = \"Tver, Russia\"\n",
    "graph = ox.graph_from_place(place_name, network_type='drive')\n",
    "\n",
    "# Получение узлов графа\n",
    "nodes, edges = ox.graph_to_gdfs(graph)\n",
    "\n",
    "# Пример: Используем случайные точки для имитации жилых районов\n",
    "np.random.seed(42)\n",
    "num_residential_areas = 10\n",
    "residential_points = nodes.sample(num_residential_areas)\n",
    "\n",
    "# Преобразуем координаты в массив для кластеризации\n",
    "X = np.array([[point.geometry.y, point.geometry.x] for point in residential_points.geometry])\n",
    "\n",
    "# Кластеризация для определения оптимальных мест размещения поликлиник\n",
    "num_clinics = 3\n",
    "kmeans = KMeans(n_clusters=num_clinics, random_state=42)\n",
    "kmeans.fit(X)\n",
    "\n",
    "# Получение центров кластеров\n",
    "clinic_locations = kmeans.cluster_centers_\n",
    "\n",
    "# Визуализация\n",
    "fig, ax = ox.plot_graph(graph, show=False, close=False, edge_color='gray', node_size=0)\n",
    "\n",
    "# Отображение жилых районов\n",
    "ax.scatter(residential_points.geometry.x, residential_points.geometry.y, c='blue', label='Жилые районы')\n",
    "\n",
    "# Отображение поликлиник\n",
    "ax.scatter(clinic_locations[:, 1], clinic_locations[:, 0], c='red', label='Поликлиники')\n",
    "\n",
    "plt.legend()\n",
    "plt.show()\n"
   ]
  },
  {
   "cell_type": "code",
   "execution_count": null,
   "id": "5e090a8f-1f3d-4096-81c2-9d847ad798b0",
   "metadata": {},
   "outputs": [],
   "source": []
  }
 ],
 "metadata": {
  "kernelspec": {
   "display_name": "Python [conda env:base] *",
   "language": "python",
   "name": "conda-base-py"
  },
  "language_info": {
   "codemirror_mode": {
    "name": "ipython",
    "version": 3
   },
   "file_extension": ".py",
   "mimetype": "text/x-python",
   "name": "python",
   "nbconvert_exporter": "python",
   "pygments_lexer": "ipython3",
   "version": "3.12.2"
  }
 },
 "nbformat": 4,
 "nbformat_minor": 5
}
